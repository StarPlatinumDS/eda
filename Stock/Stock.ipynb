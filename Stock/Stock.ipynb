{
 "cells": [
  {
   "cell_type": "markdown",
   "id": "d72a69fb-e5b0-413b-b3af-24244c6ac875",
   "metadata": {},
   "source": [
    "**project outline:**\n",
    "- Load data\n",
    "- Preprocess it\n",
    "- Feature engineering\n",
    "- Build LSTM model (Long Short-Term Memory)\n",
    "- Train it\n",
    "- Evaluate and predict\n",
    "- Insights"
   ]
  },
  {
   "cell_type": "code",
   "id": "95898e80-c7b4-45a8-8b11-a5b06ddf43e6",
   "metadata": {
    "ExecuteTime": {
     "end_time": "2025-01-02T14:29:55.421499Z",
     "start_time": "2025-01-02T14:29:55.402601Z"
    }
   },
   "source": [
    "import numpy as np\n",
    "import pandas as pd\n",
    "import matplotlib.pyplot as plt\n",
    "from sklearn.model_selection import train_test_split\n",
    "from sklearn.preprocessing import MinMaxScaler\n",
    "from tensorflow.keras.models import Sequential\n",
    "from tensorflow.keras.layers import LSTM, Dense, Dropout\n",
    "import yfinance as yf\n",
    "\n",
    "%matplotlib qt"
   ],
   "outputs": [],
   "execution_count": 26
  },
  {
   "metadata": {},
   "cell_type": "markdown",
   "source": "# **Download the data**",
   "id": "65b14b30d336dd67"
  },
  {
   "metadata": {
    "ExecuteTime": {
     "end_time": "2025-01-02T13:57:17.016551Z",
     "start_time": "2025-01-02T13:57:16.624304Z"
    }
   },
   "cell_type": "code",
   "source": [
    "ticker = 'AAPL' #Replace with ticker of your choice\n",
    "start_date = '2015-01-01'\n",
    "end_date = '2025-01-01'\n",
    "\n",
    "df = yf.download(ticker,start_date,end_date)\n",
    "print(df.head())"
   ],
   "id": "c9710f92baa57d82",
   "outputs": [
    {
     "name": "stdout",
     "output_type": "stream",
     "text": [
      "Downloading stock data...\n"
     ]
    },
    {
     "name": "stderr",
     "output_type": "stream",
     "text": [
      "[*********************100%***********************]  1 of 1 completed"
     ]
    },
    {
     "name": "stdout",
     "output_type": "stream",
     "text": [
      "Price           Close       High        Low       Open     Volume\n",
      "Ticker           AAPL       AAPL       AAPL       AAPL       AAPL\n",
      "Date                                                             \n",
      "2015-01-02  24.347172  24.817057  23.906236  24.805922  212818400\n",
      "2015-01-05  23.661270  24.195737  23.474208  24.115567  257142000\n",
      "2015-01-06  23.663496  23.924048  23.300503  23.725850  263188400\n",
      "2015-01-07  23.995319  24.095531  23.761490  23.872837  160423600\n",
      "2015-01-08  24.917269  24.975170  24.206873  24.324903  237458000\n"
     ]
    },
    {
     "name": "stderr",
     "output_type": "stream",
     "text": [
      "\n"
     ]
    }
   ],
   "execution_count": 10
  },
  {
   "metadata": {
    "ExecuteTime": {
     "end_time": "2025-01-02T13:57:25.376952Z",
     "start_time": "2025-01-02T13:57:25.361318Z"
    }
   },
   "cell_type": "code",
   "source": "df.tail()",
   "id": "2d4bee5758adf976",
   "outputs": [
    {
     "data": {
      "text/plain": [
       "Price            Close        High         Low        Open    Volume\n",
       "Ticker            AAPL        AAPL        AAPL        AAPL      AAPL\n",
       "Date                                                                \n",
       "2024-12-24  258.200012  258.209991  255.289993  255.490005  23234700\n",
       "2024-12-26  259.019989  260.100006  257.630005  258.190002  27237100\n",
       "2024-12-27  255.589996  258.700012  253.059998  257.829987  42355300\n",
       "2024-12-30  252.199997  253.500000  250.750000  252.229996  35557500\n",
       "2024-12-31  250.419998  253.279999  249.429993  252.440002  39480700"
      ],
      "text/html": [
       "<div>\n",
       "<style scoped>\n",
       "    .dataframe tbody tr th:only-of-type {\n",
       "        vertical-align: middle;\n",
       "    }\n",
       "\n",
       "    .dataframe tbody tr th {\n",
       "        vertical-align: top;\n",
       "    }\n",
       "\n",
       "    .dataframe thead tr th {\n",
       "        text-align: left;\n",
       "    }\n",
       "\n",
       "    .dataframe thead tr:last-of-type th {\n",
       "        text-align: right;\n",
       "    }\n",
       "</style>\n",
       "<table border=\"1\" class=\"dataframe\">\n",
       "  <thead>\n",
       "    <tr>\n",
       "      <th>Price</th>\n",
       "      <th>Close</th>\n",
       "      <th>High</th>\n",
       "      <th>Low</th>\n",
       "      <th>Open</th>\n",
       "      <th>Volume</th>\n",
       "    </tr>\n",
       "    <tr>\n",
       "      <th>Ticker</th>\n",
       "      <th>AAPL</th>\n",
       "      <th>AAPL</th>\n",
       "      <th>AAPL</th>\n",
       "      <th>AAPL</th>\n",
       "      <th>AAPL</th>\n",
       "    </tr>\n",
       "    <tr>\n",
       "      <th>Date</th>\n",
       "      <th></th>\n",
       "      <th></th>\n",
       "      <th></th>\n",
       "      <th></th>\n",
       "      <th></th>\n",
       "    </tr>\n",
       "  </thead>\n",
       "  <tbody>\n",
       "    <tr>\n",
       "      <th>2024-12-24</th>\n",
       "      <td>258.200012</td>\n",
       "      <td>258.209991</td>\n",
       "      <td>255.289993</td>\n",
       "      <td>255.490005</td>\n",
       "      <td>23234700</td>\n",
       "    </tr>\n",
       "    <tr>\n",
       "      <th>2024-12-26</th>\n",
       "      <td>259.019989</td>\n",
       "      <td>260.100006</td>\n",
       "      <td>257.630005</td>\n",
       "      <td>258.190002</td>\n",
       "      <td>27237100</td>\n",
       "    </tr>\n",
       "    <tr>\n",
       "      <th>2024-12-27</th>\n",
       "      <td>255.589996</td>\n",
       "      <td>258.700012</td>\n",
       "      <td>253.059998</td>\n",
       "      <td>257.829987</td>\n",
       "      <td>42355300</td>\n",
       "    </tr>\n",
       "    <tr>\n",
       "      <th>2024-12-30</th>\n",
       "      <td>252.199997</td>\n",
       "      <td>253.500000</td>\n",
       "      <td>250.750000</td>\n",
       "      <td>252.229996</td>\n",
       "      <td>35557500</td>\n",
       "    </tr>\n",
       "    <tr>\n",
       "      <th>2024-12-31</th>\n",
       "      <td>250.419998</td>\n",
       "      <td>253.279999</td>\n",
       "      <td>249.429993</td>\n",
       "      <td>252.440002</td>\n",
       "      <td>39480700</td>\n",
       "    </tr>\n",
       "  </tbody>\n",
       "</table>\n",
       "</div>"
      ]
     },
     "execution_count": 11,
     "metadata": {},
     "output_type": "execute_result"
    }
   ],
   "execution_count": 11
  },
  {
   "metadata": {},
   "cell_type": "markdown",
   "source": "# **Preprocess the data**",
   "id": "2cd57fa2b76b881"
  },
  {
   "metadata": {
    "ExecuteTime": {
     "end_time": "2025-01-02T14:00:06.873788Z",
     "start_time": "2025-01-02T14:00:06.858088Z"
    }
   },
   "cell_type": "code",
   "source": [
    "df = df[['Close']] #keep only the 'Close' price\n",
    "df.dropna(inplace=True) #remove missing values"
   ],
   "id": "44a1c7a0a43992d6",
   "outputs": [
    {
     "name": "stdout",
     "output_type": "stream",
     "text": [
      "Preprocessing data...\n"
     ]
    }
   ],
   "execution_count": 12
  },
  {
   "metadata": {
    "ExecuteTime": {
     "end_time": "2025-01-02T14:00:47.026218Z",
     "start_time": "2025-01-02T14:00:47.010576Z"
    }
   },
   "cell_type": "code",
   "source": [
    "scaler = MinMaxScaler(feature_range=(0,1))\n",
    "scaled_df = scaler.fit_transform(df)"
   ],
   "id": "6dd9611e2f2c808",
   "outputs": [],
   "execution_count": 13
  },
  {
   "metadata": {},
   "cell_type": "markdown",
   "source": "# **Create sequences for training**",
   "id": "78b40be2a85d59b0"
  },
  {
   "metadata": {
    "ExecuteTime": {
     "end_time": "2025-01-02T14:03:44.678945Z",
     "start_time": "2025-01-02T14:03:44.668961Z"
    }
   },
   "cell_type": "code",
   "source": [
    "sequence_length = 60 # use last 60 days to predict the next day\n",
    "X = []\n",
    "y = []\n",
    "\n",
    "for i in range(sequence_length, len(scaled_df)):\n",
    "    X.append(scaled_df[i-sequence_length:i,0])\n",
    "    y.append(scaled_df[i,0])\n",
    "    \n",
    "X = np.array(X)\n",
    "y = np.array(y)"
   ],
   "id": "1184bc571a400719",
   "outputs": [],
   "execution_count": 14
  },
  {
   "metadata": {},
   "cell_type": "markdown",
   "source": "# **Splitting the data**",
   "id": "48bd034fb72a1f1d"
  },
  {
   "metadata": {
    "ExecuteTime": {
     "end_time": "2025-01-02T14:07:23.561662Z",
     "start_time": "2025-01-02T14:07:23.546037Z"
    }
   },
   "cell_type": "code",
   "source": [
    "X_train, X_test, y_train, y_test = train_test_split(X, y, test_size=0.2, random_state=42)\n",
    "\n",
    "#Reshape for LSTM input\n",
    "X_train = X_train.reshape((X_train.shape[0], X_train.shape[1], 1))\n",
    "X_test = X_test.reshape((X_test.shape[0], X_test.shape[1], 1))"
   ],
   "id": "9d1d1226f16527ac",
   "outputs": [
    {
     "name": "stdout",
     "output_type": "stream",
     "text": [
      "Splitting data...\n"
     ]
    }
   ],
   "execution_count": 18
  },
  {
   "metadata": {},
   "cell_type": "markdown",
   "source": "# **Build LSTM model**",
   "id": "65a2e38f3d12a4ea"
  },
  {
   "metadata": {
    "ExecuteTime": {
     "end_time": "2025-01-02T14:10:40.697998Z",
     "start_time": "2025-01-02T14:10:39.779270Z"
    }
   },
   "cell_type": "code",
   "source": [
    "model = Sequential()\n",
    "model.add(LSTM(units=50, return_sequences=True, input_shape=(X_train.shape[1],1)))\n",
    "model.add(LSTM(units=50))\n",
    "model.add(Dense(units=1))\n",
    "\n",
    "model.compile(optimizer='adam', loss='mean_squared_error')"
   ],
   "id": "e3e9accd634c9475",
   "outputs": [],
   "execution_count": 19
  },
  {
   "metadata": {},
   "cell_type": "markdown",
   "source": "# **Train the model**",
   "id": "e19942d6ff6b3c56"
  },
  {
   "metadata": {
    "ExecuteTime": {
     "end_time": "2025-01-02T14:11:56.810363Z",
     "start_time": "2025-01-02T14:11:32.715449Z"
    }
   },
   "cell_type": "code",
   "source": "model.fit(X_train, y_train, epochs=10, batch_size=32) #train model for 10 epochs with size of 32",
   "id": "4084b201cf6bc076",
   "outputs": [
    {
     "name": "stdout",
     "output_type": "stream",
     "text": [
      "Epoch 1/10\n",
      "62/62 [==============================] - 5s 33ms/step - loss: 0.0107\n",
      "Epoch 2/10\n",
      "62/62 [==============================] - 2s 33ms/step - loss: 3.8610e-04\n",
      "Epoch 3/10\n",
      "62/62 [==============================] - 2s 34ms/step - loss: 3.6356e-04\n",
      "Epoch 4/10\n",
      "62/62 [==============================] - 2s 34ms/step - loss: 3.6147e-04\n",
      "Epoch 5/10\n",
      "62/62 [==============================] - 2s 33ms/step - loss: 3.4771e-04\n",
      "Epoch 6/10\n",
      "62/62 [==============================] - 2s 33ms/step - loss: 3.5344e-04\n",
      "Epoch 7/10\n",
      "62/62 [==============================] - 2s 34ms/step - loss: 3.2309e-04\n",
      "Epoch 8/10\n",
      "62/62 [==============================] - 2s 35ms/step - loss: 3.3475e-04\n",
      "Epoch 9/10\n",
      "62/62 [==============================] - 2s 34ms/step - loss: 3.1057e-04\n",
      "Epoch 10/10\n",
      "62/62 [==============================] - 2s 34ms/step - loss: 2.8126e-04\n"
     ]
    },
    {
     "data": {
      "text/plain": [
       "<keras.callbacks.History at 0x1dbf42f3e50>"
      ]
     },
     "execution_count": 20,
     "metadata": {},
     "output_type": "execute_result"
    }
   ],
   "execution_count": 20
  },
  {
   "metadata": {},
   "cell_type": "markdown",
   "source": "# **Make a prediction**",
   "id": "8be97b4334cc5de3"
  },
  {
   "metadata": {
    "ExecuteTime": {
     "end_time": "2025-01-02T14:15:42.349130Z",
     "start_time": "2025-01-02T14:15:41.408165Z"
    }
   },
   "cell_type": "code",
   "source": [
    "predicted_prices = model.predict(X_test)\n",
    "predicted_prices = scaler.inverse_transform(predicted_prices)"
   ],
   "id": "c14618acd0ce34da",
   "outputs": [
    {
     "name": "stdout",
     "output_type": "stream",
     "text": [
      "16/16 [==============================] - 1s 11ms/step\n"
     ]
    }
   ],
   "execution_count": 21
  },
  {
   "metadata": {},
   "cell_type": "markdown",
   "source": "# **Results**",
   "id": "8ffa55b59ec75eac"
  },
  {
   "metadata": {
    "ExecuteTime": {
     "end_time": "2025-01-02T14:33:23.226097Z",
     "start_time": "2025-01-02T14:33:23.177194Z"
    }
   },
   "cell_type": "code",
   "source": [
    "plt.figure(figsize=(14,6))\n",
    "\n",
    "actual_prices = scaler.inverse_transform(y_test.reshape(-1,1))\n",
    "plt.plot(range(len(actual_prices)), actual_prices, color='blue', label='Actual Prices')\n",
    "\n",
    "predicted_prices = predicted_prices.flatten() # flatten to 1D for plotting and avoidin error like (492,) and (1, 492)\n",
    "plt.plot(range(len(predicted_prices)), predicted_prices, color='red', label='Predicted Prices')\n",
    "\n",
    "plt.title(f'{ticker} Stock Price Prediction')\n",
    "plt.xlabel('Time')\n",
    "plt.ylabel('Stock Price')\n",
    "plt.legend()\n",
    "plt.show()"
   ],
   "id": "b45977db61c839c7",
   "outputs": [],
   "execution_count": 28
  },
  {
   "metadata": {},
   "cell_type": "code",
   "outputs": [],
   "execution_count": null,
   "source": "",
   "id": "84581b6e8717b62f"
  }
 ],
 "metadata": {
  "kernelspec": {
   "display_name": "Python 3 (ipykernel)",
   "language": "python",
   "name": "python3"
  },
  "language_info": {
   "codemirror_mode": {
    "name": "ipython",
    "version": 3
   },
   "file_extension": ".py",
   "mimetype": "text/x-python",
   "name": "python",
   "nbconvert_exporter": "python",
   "pygments_lexer": "ipython3",
   "version": "3.12.7"
  }
 },
 "nbformat": 4,
 "nbformat_minor": 5
}
