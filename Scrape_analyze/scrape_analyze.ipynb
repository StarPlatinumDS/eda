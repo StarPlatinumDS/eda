{
 "cells": [
  {
   "metadata": {},
   "cell_type": "markdown",
   "source": "# Fetch web page content",
   "id": "a7f8cfedb7ed72de"
  },
  {
   "cell_type": "code",
   "id": "initial_id",
   "metadata": {
    "collapsed": true,
    "ExecuteTime": {
     "end_time": "2025-01-12T15:19:47.868280Z",
     "start_time": "2025-01-12T15:19:47.379528Z"
    }
   },
   "source": [
    "import requests\n",
    "\n",
    "def fetch_webpage(url):\n",
    "    try:\n",
    "        response = requests.get(url)\n",
    "        response.raise_for_status() # Raise an http error for bad responses\n",
    "        return response.text #return html content\n",
    "    except requests.exceptions.RequestException as e:\n",
    "        print(f'Error fetching the webpage: {e}')\n",
    "        return None\n",
    "    \n",
    "\n",
    "#Test the function\n",
    "url = 'https://en.wikipedia.org/wiki/Web_scraping' #Example url\n",
    "html_content = fetch_webpage(url)\n",
    "\n",
    "#Output first 500 chars of response\n",
    "if html_content:\n",
    "    print(html_content[:500])"
   ],
   "outputs": [
    {
     "name": "stdout",
     "output_type": "stream",
     "text": [
      "<!DOCTYPE html>\n",
      "<html class=\"client-nojs vector-feature-language-in-header-enabled vector-feature-language-in-main-page-header-disabled vector-feature-sticky-header-disabled vector-feature-page-tools-pinned-disabled vector-feature-toc-pinned-clientpref-1 vector-feature-main-menu-pinned-disabled vector-feature-limited-width-clientpref-1 vector-feature-limited-width-content-enabled vector-feature-custom-font-size-clientpref-1 vector-feature-appearance-pinned-clientpref-1 vector-feature-night-mode-\n"
     ]
    }
   ],
   "execution_count": 4
  },
  {
   "metadata": {},
   "cell_type": "markdown",
   "source": "# Parse HTML Content",
   "id": "e0d13fb15460ed16"
  },
  {
   "metadata": {
    "ExecuteTime": {
     "end_time": "2025-01-12T15:19:51.729476Z",
     "start_time": "2025-01-12T15:19:51.669227Z"
    }
   },
   "cell_type": "code",
   "source": [
    "from bs4 import BeautifulSoup\n",
    "\n",
    "def parse_html(html_content, tag, class_name=None):\n",
    "    try:\n",
    "        soup = BeautifulSoup(html_content, 'html.parser')\n",
    "        if class_name:\n",
    "            elements = soup.find_all(tag, class_=class_name)\n",
    "        else:\n",
    "            elements = soup.find_all(tag)\n",
    "        return [element.get_text(strip=True) for element in elements]\n",
    "    except Exception as e:\n",
    "        print(f'Error parsing HTML: {e}')\n",
    "        return []\n",
    "    \n",
    "\n",
    "#Test the function\n",
    "tag = 'p' #Exctracting paragraphs\n",
    "class_name = None #No specidic class\n",
    "parsed_data = parse_html(html_content=html_content, tag=tag, class_name=class_name)\n",
    "\n",
    "#Output the first 5 extracted elements\n",
    "if parsed_data:\n",
    "    print(parsed_data[:5])"
   ],
   "id": "eeb47bdac702daba",
   "outputs": [
    {
     "name": "stdout",
     "output_type": "stream",
     "text": [
      "['Web scraping,web harvesting, orweb data extractionisdata scrapingused forextracting datafromwebsites.[1]Web scraping software may directly access theWorld Wide Webusing theHypertext Transfer Protocolor a web browser. While web scraping can be done manually by a software user, the term typically refers to automated processes implemented using abotorweb crawler. It is a form of copying in which specific data is gathered and copied from the web, typically into a central localdatabaseorspreadsheet, for laterretrievaloranalysis.', 'Scraping a web page involves fetching it and then extracting data from it. Fetching is the downloading of a page (which a browser does when a user views a page). Therefore, web crawling is a main component of web scraping, to fetch pages for later processing. Having fetched, extraction can take place. The content of a page may beparsed, searched and reformatted, and its data copied into a spreadsheet or loaded into a database. Web scrapers typically take something out of a page, to make use of it for another purpose somewhere else. An example would be finding and copying names and telephone numbers, companies and their URLs, or e-mail addresses to a list (contact scraping).', 'As well ascontact scraping, web scraping is used as a component of applications used forweb indexing,web mininganddata mining, online price change monitoring andprice comparison, product review scraping (to watch the competition), gathering real estate listings, weather data monitoring,website change detection, research, tracking online presence and reputation,web mashup, andweb data integration.', 'Web pagesare built using text-based mark-up languages (HTMLandXHTML), and frequently contain a wealth of useful data in text form. However, most web pages are designed for humanend-usersand not for ease of automated use. As a result, specialized tools and software have been developed to facilitate the scraping of web pages. Web scraping applications includemarket research, price comparison, content monitoring, and more.  Businesses rely on web scraping services to efficiently gather and utilize this data.', 'Newer forms of web scraping involve monitoringdata feedsfrom web servers.  For example,JSONis commonly used as a transport mechanism between the client and the web server.']\n"
     ]
    }
   ],
   "execution_count": 5
  },
  {
   "metadata": {},
   "cell_type": "markdown",
   "source": "# Convert Data into DataFrame",
   "id": "99d6659102349ab0"
  },
  {
   "metadata": {
    "ExecuteTime": {
     "end_time": "2025-01-12T15:24:22.139416Z",
     "start_time": "2025-01-12T15:24:21.578871Z"
    }
   },
   "cell_type": "code",
   "source": [
    "import pandas as pd\n",
    "\n",
    "\n",
    "def convert_to_dataframe(data, column_name='Extracted Content'):\n",
    "    try:\n",
    "        df = pd.DataFrame(data, columns=[column_name])\n",
    "        return df\n",
    "    except Exception as e:\n",
    "        print(f'Error creating DataFrame: {e}')\n",
    "        return None\n",
    "    \n",
    "\n",
    "#Test the function\n",
    "dataframe = convert_to_dataframe(parsed_data)\n",
    "\n",
    "#Display first 5 elements of the df\n",
    "if dataframe is not None:\n",
    "    print(dataframe.head())"
   ],
   "id": "4c24b604bbe17c06",
   "outputs": [
    {
     "name": "stdout",
     "output_type": "stream",
     "text": [
      "                                   Extracted Content\n",
      "0  Web scraping,web harvesting, orweb data extrac...\n",
      "1  Scraping a web page involves fetching it and t...\n",
      "2  As well ascontact scraping, web scraping is us...\n",
      "3  Web pagesare built using text-based mark-up la...\n",
      "4  Newer forms of web scraping involve monitoring...\n"
     ]
    }
   ],
   "execution_count": 6
  },
  {
   "metadata": {},
   "cell_type": "markdown",
   "source": "# Save Data to CSV",
   "id": "319c83f01d616faa"
  },
  {
   "metadata": {
    "ExecuteTime": {
     "end_time": "2025-01-12T15:27:29.406295Z",
     "start_time": "2025-01-12T15:27:29.385738Z"
    }
   },
   "cell_type": "code",
   "source": [
    "def save_to_csv(dataframe, file_name='scraped_data.csv'):\n",
    "    try:\n",
    "        dataframe.to_csv(file_name, index=False)\n",
    "        print(f'Data saved to {file_name}')\n",
    "    except Exception as e:\n",
    "        print(f'Error saving to .csv: {e}')\n",
    "        \n",
    "\n",
    "#test the function\n",
    "if dataframe is not None:\n",
    "    save_to_csv(dataframe)"
   ],
   "id": "a5074b46398fde1c",
   "outputs": [
    {
     "name": "stdout",
     "output_type": "stream",
     "text": [
      "Data saved to scraped_data.csv\n"
     ]
    }
   ],
   "execution_count": 7
  },
  {
   "metadata": {},
   "cell_type": "markdown",
   "source": "# Add Basic Text Analysis",
   "id": "e6eb78383cab1de0"
  },
  {
   "metadata": {
    "ExecuteTime": {
     "end_time": "2025-01-12T15:37:26.745413Z",
     "start_time": "2025-01-12T15:37:26.738910Z"
    }
   },
   "cell_type": "code",
   "source": [
    "from collections import Counter\n",
    "\n",
    "def analyze_text(dataframe, column='Extracted Content'):\n",
    "    try:\n",
    "        text = ' '.join(dataframe[column])\n",
    "        word_counts = Counter(text.split())\n",
    "        return word_counts\n",
    "    except Exception as e:\n",
    "        print(f'Error analyzing text: {e}')\n",
    "        return None\n",
    "    \n",
    "    \n",
    "#Test the function\n",
    "if dataframe is not None:\n",
    "    word_counts = analyze_text(dataframe)\n",
    "    if word_counts:\n",
    "        print(word_counts.most_common(10)) #Display top 10 words"
   ],
   "id": "ca16810789ce3408",
   "outputs": [
    {
     "name": "stdout",
     "output_type": "stream",
     "text": [
      "[('the', 130), ('of', 84), ('and', 77), ('to', 70), ('a', 69), ('web', 44), ('that', 35), ('in', 34), ('is', 28), ('scraping', 21)]\n"
     ]
    }
   ],
   "execution_count": 15
  },
  {
   "metadata": {},
   "cell_type": "markdown",
   "source": "# Visualize",
   "id": "37760dd460f917ff"
  },
  {
   "metadata": {
    "ExecuteTime": {
     "end_time": "2025-01-12T15:37:30.182690Z",
     "start_time": "2025-01-12T15:37:30.082838Z"
    }
   },
   "cell_type": "code",
   "source": [
    "import matplotlib.pyplot as plt\n",
    "\n",
    "def plot_word_frequencies(word_counts, num_words=10):\n",
    "    try:\n",
    "        common_words = word_counts.most_common(num_words)\n",
    "        words, counts = zip(*common_words)\n",
    "        \n",
    "        plt.figure(figsize=(10,6))\n",
    "        plt.bar(words, counts, color='skyblue')\n",
    "        plt.xlabel('Frequency')\n",
    "        plt.ylabel('Words')\n",
    "        plt.title('Top Word Frequencies')\n",
    "        plt.gca().invert_yaxis() #Reverse the order\n",
    "        plt.show()\n",
    "    except Exception as e:\n",
    "        print(f'Error plotting word frequencies: {e}')\n",
    "     \n",
    "        \n",
    "#Testthe function\n",
    "if word_counts:\n",
    "    plot_word_frequencies(word_counts)"
   ],
   "id": "e6cfb16753fef9e2",
   "outputs": [
    {
     "data": {
      "text/plain": [
       "<Figure size 1000x600 with 1 Axes>"
      ],
      "image/png": "[encoded data removed]"
     },
     "metadata": {},
     "output_type": "display_data"
    }
   ],
   "execution_count": 16
  },
  {
   "metadata": {},
   "cell_type": "code",
   "outputs": [],
   "execution_count": null,
   "source": "",
   "id": "3135e0d1477f5da7"
  }
 ],
 "metadata": {
  "kernelspec": {
   "display_name": "Python 3",
   "language": "python",
   "name": "python3"
  },
  "language_info": {
   "codemirror_mode": {
    "name": "ipython",
    "version": 2
   },
   "file_extension": ".py",
   "mimetype": "text/x-python",
   "name": "python",
   "nbconvert_exporter": "python",
   "pygments_lexer": "ipython2",
   "version": "2.7.6"
  }
 },
 "nbformat": 4,
 "nbformat_minor": 5
}
